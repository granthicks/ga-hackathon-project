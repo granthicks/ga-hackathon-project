{
 "cells": [
  {
   "cell_type": "markdown",
   "metadata": {},
   "source": [
    "## Project 4   Hack-a-thon\n",
    "\n",
    "### Max Bermont, Yunus Herman, Grant Hicks\n",
    "\n",
    "### Problem Statement:\n",
    "\n",
    "We have been tasked with creating a model that will predict if a person's income is greater than \\\\$50,000 given certain profile information. The information that we were given to create our model is from an extraction of data from the 1994 Census database. Since the client which hired us to create the model wants things to be as 'cost-efficient' as possible, they only provided us with a limited amount of data to create our model. We want to know if we can make a prediction if someone is likely to have an income of greater than \\\\$50,000 using the limited amount of data that we have at our disposal."
   ]
  },
  {
   "cell_type": "code",
   "execution_count": 1,
   "metadata": {
    "ExecuteTime": {
     "end_time": "2021-02-08T20:27:55.164132Z",
     "start_time": "2021-02-08T20:27:53.598324Z"
    },
    "pycharm": {
     "name": "#%%\n"
    }
   },
   "outputs": [],
   "source": [
    "#Imports\n",
    "\n",
    "import pandas as pd\n",
    "import numpy as np\n",
    "\n",
    "import matplotlib.pyplot as plt\n",
    "import seaborn as sns\n",
    "\n",
    "from sklearn.model_selection import train_test_split, GridSearchCV, cross_val_score\n",
    "from sklearn.svm import SVC\n",
    "from sklearn.tree import ExtraTreeClassifier, DecisionTreeClassifier\n",
    "from sklearn.ensemble import RandomForestClassifier, AdaBoostClassifier, GradientBoostingClassifier\n",
    "from sklearn.linear_model import LogisticRegression\n",
    "from sklearn.pipeline import Pipeline\n",
    "from sklearn.preprocessing import StandardScaler\n",
    "from sklearn.metrics import confusion_matrix, classification_report, f1_score\n",
    "from sklearn.neighbors import KNeighborsClassifier"
   ]
  },
  {
   "cell_type": "markdown",
   "metadata": {},
   "source": [
    "### Reading in the Data"
   ]
  },
  {
   "cell_type": "code",
   "execution_count": 2,
   "metadata": {
    "ExecuteTime": {
     "end_time": "2021-02-08T20:27:56.013975Z",
     "start_time": "2021-02-08T20:27:55.992035Z"
    },
    "pycharm": {
     "name": "#%%\n"
    }
   },
   "outputs": [],
   "source": [
    "# Reading in the dataframe as df\n",
    "\n",
    "df = pd.read_csv('./data/cheap_train_sample.csv')"
   ]
  },
  {
   "cell_type": "code",
   "execution_count": 3,
   "metadata": {
    "ExecuteTime": {
     "end_time": "2021-02-08T20:27:56.981008Z",
     "start_time": "2021-02-08T20:27:56.966052Z"
    },
    "pycharm": {
     "name": "#%%\n"
    }
   },
   "outputs": [
    {
     "name": "stdout",
     "output_type": "stream",
     "text": [
      "<class 'pandas.core.frame.DataFrame'>\n",
      "RangeIndex: 6513 entries, 0 to 6512\n",
      "Data columns (total 14 columns):\n",
      " #   Column          Non-Null Count  Dtype \n",
      "---  ------          --------------  ----- \n",
      " 0   age             6513 non-null   int64 \n",
      " 1   workclass       6513 non-null   object\n",
      " 2   fnlwgt          6513 non-null   int64 \n",
      " 3   education       6513 non-null   object\n",
      " 4   education-num   6513 non-null   int64 \n",
      " 5   marital-status  6513 non-null   object\n",
      " 6   occupation      6513 non-null   object\n",
      " 7   relationship    6513 non-null   object\n",
      " 8   sex             6513 non-null   object\n",
      " 9   capital-gain    6513 non-null   int64 \n",
      " 10  capital-loss    6513 non-null   int64 \n",
      " 11  hours-per-week  6513 non-null   int64 \n",
      " 12  native-country  6513 non-null   object\n",
      " 13  wage            6513 non-null   object\n",
      "dtypes: int64(6), object(8)\n",
      "memory usage: 712.5+ KB\n"
     ]
    }
   ],
   "source": [
    "# Checking come basic info, determining data types\n",
    "\n",
    "df.info()"
   ]
  },
  {
   "cell_type": "markdown",
   "metadata": {},
   "source": [
    "We have 6,513 rows with 14 columns. So far it looks like there are no null values, but we will have to same some values to numerical values."
   ]
  },
  {
   "cell_type": "code",
   "execution_count": 4,
   "metadata": {
    "ExecuteTime": {
     "end_time": "2021-02-08T20:28:00.741531Z",
     "start_time": "2021-02-08T20:28:00.709613Z"
    },
    "pycharm": {
     "name": "#%%\n"
    }
   },
   "outputs": [
    {
     "data": {
      "text/html": [
       "<div>\n",
       "<style scoped>\n",
       "    .dataframe tbody tr th:only-of-type {\n",
       "        vertical-align: middle;\n",
       "    }\n",
       "\n",
       "    .dataframe tbody tr th {\n",
       "        vertical-align: top;\n",
       "    }\n",
       "\n",
       "    .dataframe thead th {\n",
       "        text-align: right;\n",
       "    }\n",
       "</style>\n",
       "<table border=\"1\" class=\"dataframe\">\n",
       "  <thead>\n",
       "    <tr style=\"text-align: right;\">\n",
       "      <th></th>\n",
       "      <th>age</th>\n",
       "      <th>fnlwgt</th>\n",
       "      <th>education-num</th>\n",
       "      <th>capital-gain</th>\n",
       "      <th>capital-loss</th>\n",
       "      <th>hours-per-week</th>\n",
       "    </tr>\n",
       "  </thead>\n",
       "  <tbody>\n",
       "    <tr>\n",
       "      <th>count</th>\n",
       "      <td>6513.000000</td>\n",
       "      <td>6.513000e+03</td>\n",
       "      <td>6513.000000</td>\n",
       "      <td>6513.000000</td>\n",
       "      <td>6513.000000</td>\n",
       "      <td>6513.000000</td>\n",
       "    </tr>\n",
       "    <tr>\n",
       "      <th>mean</th>\n",
       "      <td>38.529556</td>\n",
       "      <td>1.926640e+05</td>\n",
       "      <td>10.068478</td>\n",
       "      <td>1059.200829</td>\n",
       "      <td>92.108092</td>\n",
       "      <td>40.400891</td>\n",
       "    </tr>\n",
       "    <tr>\n",
       "      <th>std</th>\n",
       "      <td>13.684351</td>\n",
       "      <td>1.060173e+05</td>\n",
       "      <td>2.589238</td>\n",
       "      <td>7392.040587</td>\n",
       "      <td>413.710886</td>\n",
       "      <td>12.354685</td>\n",
       "    </tr>\n",
       "    <tr>\n",
       "      <th>min</th>\n",
       "      <td>17.000000</td>\n",
       "      <td>1.228500e+04</td>\n",
       "      <td>1.000000</td>\n",
       "      <td>0.000000</td>\n",
       "      <td>0.000000</td>\n",
       "      <td>1.000000</td>\n",
       "    </tr>\n",
       "    <tr>\n",
       "      <th>25%</th>\n",
       "      <td>27.000000</td>\n",
       "      <td>1.202380e+05</td>\n",
       "      <td>9.000000</td>\n",
       "      <td>0.000000</td>\n",
       "      <td>0.000000</td>\n",
       "      <td>40.000000</td>\n",
       "    </tr>\n",
       "    <tr>\n",
       "      <th>50%</th>\n",
       "      <td>37.000000</td>\n",
       "      <td>1.815760e+05</td>\n",
       "      <td>10.000000</td>\n",
       "      <td>0.000000</td>\n",
       "      <td>0.000000</td>\n",
       "      <td>40.000000</td>\n",
       "    </tr>\n",
       "    <tr>\n",
       "      <th>75%</th>\n",
       "      <td>48.000000</td>\n",
       "      <td>2.417530e+05</td>\n",
       "      <td>13.000000</td>\n",
       "      <td>0.000000</td>\n",
       "      <td>0.000000</td>\n",
       "      <td>45.000000</td>\n",
       "    </tr>\n",
       "    <tr>\n",
       "      <th>max</th>\n",
       "      <td>90.000000</td>\n",
       "      <td>1.366120e+06</td>\n",
       "      <td>16.000000</td>\n",
       "      <td>99999.000000</td>\n",
       "      <td>4356.000000</td>\n",
       "      <td>99.000000</td>\n",
       "    </tr>\n",
       "  </tbody>\n",
       "</table>\n",
       "</div>"
      ],
      "text/plain": [
       "               age        fnlwgt  education-num  capital-gain  capital-loss  \\\n",
       "count  6513.000000  6.513000e+03    6513.000000   6513.000000   6513.000000   \n",
       "mean     38.529556  1.926640e+05      10.068478   1059.200829     92.108092   \n",
       "std      13.684351  1.060173e+05       2.589238   7392.040587    413.710886   \n",
       "min      17.000000  1.228500e+04       1.000000      0.000000      0.000000   \n",
       "25%      27.000000  1.202380e+05       9.000000      0.000000      0.000000   \n",
       "50%      37.000000  1.815760e+05      10.000000      0.000000      0.000000   \n",
       "75%      48.000000  2.417530e+05      13.000000      0.000000      0.000000   \n",
       "max      90.000000  1.366120e+06      16.000000  99999.000000   4356.000000   \n",
       "\n",
       "       hours-per-week  \n",
       "count     6513.000000  \n",
       "mean        40.400891  \n",
       "std         12.354685  \n",
       "min          1.000000  \n",
       "25%         40.000000  \n",
       "50%         40.000000  \n",
       "75%         45.000000  \n",
       "max         99.000000  "
      ]
     },
     "execution_count": 4,
     "metadata": {},
     "output_type": "execute_result"
    }
   ],
   "source": [
    "# Looking at description of numerical data\n",
    "\n",
    "df.describe()"
   ]
  },
  {
   "cell_type": "code",
   "execution_count": 5,
   "metadata": {
    "ExecuteTime": {
     "end_time": "2021-02-08T20:28:01.561423Z",
     "start_time": "2021-02-08T20:28:01.330240Z"
    },
    "pycharm": {
     "name": "#%%\n"
    }
   },
   "outputs": [
    {
     "data": {
      "text/plain": [
       "<AxesSubplot:>"
      ]
     },
     "execution_count": 5,
     "metadata": {},
     "output_type": "execute_result"
    },
    {
     "data": {
      "image/png": "[encoded data removed]",
      "text/plain": [
       "<Figure size 432x288 with 2 Axes>"
      ]
     },
     "metadata": {
      "needs_background": "light"
     },
     "output_type": "display_data"
    }
   ],
   "source": [
    "# Checking correlation heatmap for any standout correlations\n",
    "\n",
    "sns.heatmap(df.corr(), cmap='coolwarm')"
   ]
  },
  {
   "cell_type": "code",
   "execution_count": 6,
   "metadata": {
    "ExecuteTime": {
     "end_time": "2021-02-08T20:28:04.203974Z",
     "start_time": "2021-02-08T20:28:04.197834Z"
    },
    "pycharm": {
     "name": "#%%\n"
    }
   },
   "outputs": [
    {
     "data": {
      "text/plain": [
       " Private             4545\n",
       " Self-emp-not-inc     504\n",
       " Local-gov            421\n",
       " ?                    363\n",
       " State-gov            262\n",
       " Self-emp-inc         225\n",
       " Federal-gov          189\n",
       " Never-worked           2\n",
       " Without-pay            2\n",
       "Name: workclass, dtype: int64"
      ]
     },
     "execution_count": 6,
     "metadata": {},
     "output_type": "execute_result"
    }
   ],
   "source": [
    "# clean object features to be numeric.\n",
    "# a lot of features for a limited amount of unique data points.\n",
    "\n",
    "df.workclass.value_counts()"
   ]
  },
  {
   "cell_type": "code",
   "execution_count": 8,
   "metadata": {
    "ExecuteTime": {
     "end_time": "2021-02-08T19:42:17.009140Z",
     "start_time": "2021-02-08T19:42:17.002192Z"
    },
    "pycharm": {
     "name": "#%%\n"
    }
   },
   "outputs": [
    {
     "data": {
      "text/plain": [
       " HS-grad         2103\n",
       " Some-college    1451\n",
       " Bachelors       1113\n",
       " Masters          334\n",
       " Assoc-voc        250\n",
       " 11th             225\n",
       " Assoc-acdm       222\n",
       " 10th             175\n",
       " 7th-8th          142\n",
       " 9th              106\n",
       " Prof-school      103\n",
       " 12th              89\n",
       " Doctorate         81\n",
       " 5th-6th           79\n",
       " 1st-4th           27\n",
       " Preschool         13\n",
       "Name: education, dtype: int64"
      ]
     },
     "execution_count": 8,
     "metadata": {},
     "output_type": "execute_result"
    }
   ],
   "source": [
    "# good spread of values representing the data, however will use entire feature allotment.\n",
    "# Already have numerical column\n",
    "\n",
    "df.education.value_counts()"
   ]
  },
  {
   "cell_type": "code",
   "execution_count": 9,
   "metadata": {
    "ExecuteTime": {
     "end_time": "2021-02-08T19:42:17.426930Z",
     "start_time": "2021-02-08T19:42:17.420436Z"
    },
    "pycharm": {
     "name": "#%%\n"
    }
   },
   "outputs": [
    {
     "data": {
      "text/plain": [
       " Married-civ-spouse       2978\n",
       " Never-married            2135\n",
       " Divorced                  898\n",
       " Separated                 210\n",
       " Widowed                   204\n",
       " Married-spouse-absent      81\n",
       " Married-AF-spouse           7\n",
       "Name: marital-status, dtype: int64"
      ]
     },
     "execution_count": 9,
     "metadata": {},
     "output_type": "execute_result"
    }
   ],
   "source": [
    "df['marital-status'].value_counts()"
   ]
  },
  {
   "cell_type": "code",
   "execution_count": 10,
   "metadata": {
    "ExecuteTime": {
     "end_time": "2021-02-08T19:42:17.828522Z",
     "start_time": "2021-02-08T19:42:17.822028Z"
    },
    "pycharm": {
     "name": "#%%\n"
    }
   },
   "outputs": [
    {
     "data": {
      "text/plain": [
       " Exec-managerial      853\n",
       " Prof-specialty       840\n",
       " Craft-repair         831\n",
       " Adm-clerical         761\n",
       " Other-service        684\n",
       " Sales                681\n",
       " Machine-op-inspct    377\n",
       " ?                    365\n",
       " Transport-moving     320\n",
       " Handlers-cleaners    268\n",
       " Farming-fishing      184\n",
       " Tech-support         182\n",
       " Protective-serv      129\n",
       " Priv-house-serv       36\n",
       " Armed-Forces           2\n",
       "Name: occupation, dtype: int64"
      ]
     },
     "execution_count": 10,
     "metadata": {},
     "output_type": "execute_result"
    }
   ],
   "source": [
    "df['occupation'].value_counts()"
   ]
  },
  {
   "cell_type": "code",
   "execution_count": 11,
   "metadata": {
    "ExecuteTime": {
     "end_time": "2021-02-08T19:42:18.179955Z",
     "start_time": "2021-02-08T19:42:18.172973Z"
    },
    "pycharm": {
     "name": "#%%\n"
    }
   },
   "outputs": [
    {
     "data": {
      "text/plain": [
       " Husband           2612\n",
       " Not-in-family     1665\n",
       " Own-child         1019\n",
       " Unmarried          701\n",
       " Wife               322\n",
       " Other-relative     194\n",
       "Name: relationship, dtype: int64"
      ]
     },
     "execution_count": 11,
     "metadata": {},
     "output_type": "execute_result"
    }
   ],
   "source": [
    "df['relationship'].value_counts()"
   ]
  },
  {
   "cell_type": "code",
   "execution_count": 12,
   "metadata": {
    "ExecuteTime": {
     "end_time": "2021-02-08T19:42:18.627907Z",
     "start_time": "2021-02-08T19:42:18.622890Z"
    },
    "pycharm": {
     "name": "#%%\n"
    }
   },
   "outputs": [
    {
     "data": {
      "text/plain": [
       " Male      4326\n",
       " Female    2187\n",
       "Name: sex, dtype: int64"
      ]
     },
     "execution_count": 12,
     "metadata": {},
     "output_type": "execute_result"
    }
   ],
   "source": [
    "df['sex'].value_counts()"
   ]
  },
  {
   "cell_type": "code",
   "execution_count": 13,
   "metadata": {
    "ExecuteTime": {
     "end_time": "2021-02-08T19:42:18.937441Z",
     "start_time": "2021-02-08T19:42:18.929464Z"
    },
    "pycharm": {
     "name": "#%%\n"
    }
   },
   "outputs": [
    {
     "data": {
      "text/plain": [
       " United-States                 5807\n",
       " Mexico                         150\n",
       " ?                              120\n",
       " Philippines                     43\n",
       " El-Salvador                     29\n",
       " Canada                          26\n",
       " Germany                         24\n",
       " Dominican-Republic              20\n",
       " South                           18\n",
       " Jamaica                         18\n",
       " China                           17\n",
       " Puerto-Rico                     17\n",
       " India                           17\n",
       " Cuba                            16\n",
       " England                         16\n",
       " Italy                           15\n",
       " Poland                          14\n",
       " Japan                           12\n",
       " Haiti                           11\n",
       " Columbia                        11\n",
       " Guatemala                       11\n",
       " Taiwan                          10\n",
       " Iran                            10\n",
       " France                           9\n",
       " Peru                             9\n",
       " Vietnam                          8\n",
       " Cambodia                         6\n",
       " Nicaragua                        6\n",
       " Portugal                         5\n",
       " Outlying-US(Guam-USVI-etc)       5\n",
       " Scotland                         4\n",
       " Hong                             4\n",
       " Ecuador                          4\n",
       " Trinadad&Tobago                  3\n",
       " Greece                           3\n",
       " Ireland                          3\n",
       " Yugoslavia                       3\n",
       " Hungary                          3\n",
       " Thailand                         3\n",
       " Laos                             2\n",
       " Honduras                         1\n",
       "Name: native-country, dtype: int64"
      ]
     },
     "execution_count": 13,
     "metadata": {},
     "output_type": "execute_result"
    }
   ],
   "source": [
    "df['native-country'].value_counts()"
   ]
  },
  {
   "cell_type": "markdown",
   "metadata": {},
   "source": [
    "## Preparing the Data"
   ]
  },
  {
   "cell_type": "code",
   "execution_count": 14,
   "metadata": {
    "ExecuteTime": {
     "end_time": "2021-02-08T19:42:19.641762Z",
     "start_time": "2021-02-08T19:42:19.627257Z"
    },
    "pycharm": {
     "name": "#%%\n"
    }
   },
   "outputs": [],
   "source": [
    "# Creating dummy variables set to 1 or 0 for features in the dataframe\n",
    "\n",
    "df = pd.get_dummies(df, columns=['occupation','relationship', 'sex', 'marital-status',\n",
    "                                 'workclass', 'native-country'],\n",
    "                    drop_first=True)"
   ]
  },
  {
   "cell_type": "code",
   "execution_count": 15,
   "metadata": {
    "ExecuteTime": {
     "end_time": "2021-02-08T19:42:20.083701Z",
     "start_time": "2021-02-08T19:42:20.078692Z"
    },
    "pycharm": {
     "name": "#%%\n"
    }
   },
   "outputs": [
    {
     "data": {
      "text/plain": [
       " <=50K    4945\n",
       " >50K     1568\n",
       "Name: wage, dtype: int64"
      ]
     },
     "execution_count": 15,
     "metadata": {},
     "output_type": "execute_result"
    }
   ],
   "source": [
    "df.wage.value_counts()\n",
    "#below or equal to 50k will be true."
   ]
  },
  {
   "cell_type": "code",
   "execution_count": 16,
   "metadata": {
    "ExecuteTime": {
     "end_time": "2021-02-08T19:42:20.528498Z",
     "start_time": "2021-02-08T19:42:20.522514Z"
    },
    "pycharm": {
     "name": "#%%\n"
    }
   },
   "outputs": [],
   "source": [
    "# Creating our y-column\n",
    "\n",
    "df['wage'] = [1 if wage == ' <=50K' else 0 for wage in df.wage]"
   ]
  },
  {
   "cell_type": "code",
   "execution_count": 17,
   "metadata": {
    "ExecuteTime": {
     "end_time": "2021-02-08T19:42:21.074146Z",
     "start_time": "2021-02-08T19:42:21.069196Z"
    },
    "pycharm": {
     "name": "#%%\n"
    }
   },
   "outputs": [
    {
     "data": {
      "text/plain": [
       "1    4945\n",
       "0    1568\n",
       "Name: wage, dtype: int64"
      ]
     },
     "execution_count": 17,
     "metadata": {},
     "output_type": "execute_result"
    }
   ],
   "source": [
    "df.wage.value_counts()"
   ]
  },
  {
   "cell_type": "code",
   "execution_count": 18,
   "metadata": {
    "ExecuteTime": {
     "end_time": "2021-02-08T19:42:21.524931Z",
     "start_time": "2021-02-08T19:42:21.512964Z"
    },
    "pycharm": {
     "name": "#%%\n"
    }
   },
   "outputs": [],
   "source": [
    "# Splitting the data into our train and test sets, we are dropping the 'education' column as\n",
    "# they also provied us with a numerical version of that column\n",
    "\n",
    "X = df.drop(columns=['wage', 'education'])\n",
    "features = X.columns\n",
    "y = df['wage']\n",
    "\n",
    "X_train, X_val, y_train, y_val = train_test_split(X,y, random_state=420)"
   ]
  },
  {
   "cell_type": "code",
   "execution_count": 19,
   "metadata": {
    "ExecuteTime": {
     "end_time": "2021-02-08T19:42:21.961629Z",
     "start_time": "2021-02-08T19:42:21.955656Z"
    },
    "pycharm": {
     "name": "#%%\n"
    }
   },
   "outputs": [
    {
     "data": {
      "text/plain": [
       "0.7592507293106096"
      ]
     },
     "execution_count": 19,
     "metadata": {},
     "output_type": "execute_result"
    }
   ],
   "source": [
    "# Baseline score\n",
    "\n",
    "guess = [1 if pred == 1 else 0 for pred in y]\n",
    "sum(guess)/len(guess)"
   ]
  },
  {
   "cell_type": "markdown",
   "metadata": {},
   "source": [
    "## Checking Models"
   ]
  },
  {
   "cell_type": "markdown",
   "metadata": {},
   "source": [
    "#### Random Forest"
   ]
  },
  {
   "cell_type": "code",
   "execution_count": 20,
   "metadata": {
    "ExecuteTime": {
     "end_time": "2021-02-08T19:42:27.166231Z",
     "start_time": "2021-02-08T19:42:24.461747Z"
    },
    "pycharm": {
     "name": "#%%\n"
    }
   },
   "outputs": [
    {
     "data": {
      "text/plain": [
       "0.8489163020938328"
      ]
     },
     "execution_count": 20,
     "metadata": {},
     "output_type": "execute_result"
    }
   ],
   "source": [
    "rfc = RandomForestClassifier()\n",
    "\n",
    "cross_val_score(rfc, X,y, cv=5).mean()"
   ]
  },
  {
   "cell_type": "markdown",
   "metadata": {},
   "source": [
    "#### SVC"
   ]
  },
  {
   "cell_type": "code",
   "execution_count": 21,
   "metadata": {
    "ExecuteTime": {
     "end_time": "2021-02-08T19:42:36.031743Z",
     "start_time": "2021-02-08T19:42:27.167228Z"
    },
    "pycharm": {
     "name": "#%%\n"
    }
   },
   "outputs": [
    {
     "data": {
      "text/plain": [
       "0.7683099264016751"
      ]
     },
     "execution_count": 21,
     "metadata": {},
     "output_type": "execute_result"
    }
   ],
   "source": [
    "svc = SVC()\n",
    "cross_val_score(svc,X,y,cv= 5).mean()"
   ]
  },
  {
   "cell_type": "markdown",
   "metadata": {},
   "source": [
    "#### Ada boost"
   ]
  },
  {
   "cell_type": "code",
   "execution_count": 22,
   "metadata": {
    "ExecuteTime": {
     "end_time": "2021-02-08T19:42:37.972995Z",
     "start_time": "2021-02-08T19:42:36.032714Z"
    },
    "pycharm": {
     "name": "#%%\n"
    }
   },
   "outputs": [
    {
     "data": {
      "text/plain": [
       "0.8576684078924567"
      ]
     },
     "execution_count": 22,
     "metadata": {},
     "output_type": "execute_result"
    }
   ],
   "source": [
    "boost = AdaBoostClassifier()\n",
    "\n",
    "cross_val_score(boost,X,y,cv=5).mean()"
   ]
  },
  {
   "cell_type": "markdown",
   "metadata": {},
   "source": [
    "#### Logistic Regression"
   ]
  },
  {
   "cell_type": "code",
   "execution_count": 23,
   "metadata": {
    "ExecuteTime": {
     "end_time": "2021-02-08T19:42:38.346388Z",
     "start_time": "2021-02-08T19:42:37.973993Z"
    },
    "pycharm": {
     "name": "#%%\n"
    }
   },
   "outputs": [
    {
     "name": "stderr",
     "output_type": "stream",
     "text": [
      "C:\\Users\\ghick\\anaconda3\\lib\\site-packages\\sklearn\\linear_model\\_logistic.py:762: ConvergenceWarning: lbfgs failed to converge (status=1):\n",
      "STOP: TOTAL NO. of ITERATIONS REACHED LIMIT.\n",
      "\n",
      "Increase the number of iterations (max_iter) or scale the data as shown in:\n",
      "    https://scikit-learn.org/stable/modules/preprocessing.html\n",
      "Please also refer to the documentation for alternative solver options:\n",
      "    https://scikit-learn.org/stable/modules/linear_model.html#logistic-regression\n",
      "  n_iter_i = _check_optimize_result(\n",
      "C:\\Users\\ghick\\anaconda3\\lib\\site-packages\\sklearn\\linear_model\\_logistic.py:762: ConvergenceWarning: lbfgs failed to converge (status=1):\n",
      "STOP: TOTAL NO. of ITERATIONS REACHED LIMIT.\n",
      "\n",
      "Increase the number of iterations (max_iter) or scale the data as shown in:\n",
      "    https://scikit-learn.org/stable/modules/preprocessing.html\n",
      "Please also refer to the documentation for alternative solver options:\n",
      "    https://scikit-learn.org/stable/modules/linear_model.html#logistic-regression\n",
      "  n_iter_i = _check_optimize_result(\n"
     ]
    },
    {
     "data": {
      "text/plain": [
       "0.7925708485557964"
      ]
     },
     "execution_count": 23,
     "metadata": {},
     "output_type": "execute_result"
    }
   ],
   "source": [
    "logr= LogisticRegression()\n",
    "\n",
    "cross_val_score(logr,X,y,cv=5).mean()"
   ]
  },
  {
   "cell_type": "markdown",
   "metadata": {},
   "source": [
    "#### Decision Tree"
   ]
  },
  {
   "cell_type": "code",
   "execution_count": 24,
   "metadata": {
    "ExecuteTime": {
     "end_time": "2021-02-08T19:42:38.621685Z",
     "start_time": "2021-02-08T19:42:38.348383Z"
    },
    "pycharm": {
     "name": "#%%\n"
    }
   },
   "outputs": [
    {
     "data": {
      "text/plain": [
       "0.8025495931048873"
      ]
     },
     "execution_count": 24,
     "metadata": {},
     "output_type": "execute_result"
    }
   ],
   "source": [
    "tree = DecisionTreeClassifier()\n",
    "\n",
    "cross_val_score(tree, X,y,cv=5).mean()"
   ]
  },
  {
   "cell_type": "markdown",
   "metadata": {},
   "source": [
    "#### Extra Trees"
   ]
  },
  {
   "cell_type": "code",
   "execution_count": 25,
   "metadata": {
    "ExecuteTime": {
     "end_time": "2021-02-08T19:42:38.716429Z",
     "start_time": "2021-02-08T19:42:38.622649Z"
    },
    "pycharm": {
     "name": "#%%\n"
    }
   },
   "outputs": [
    {
     "data": {
      "text/plain": [
       "0.7821246727096751"
      ]
     },
     "execution_count": 25,
     "metadata": {},
     "output_type": "execute_result"
    }
   ],
   "source": [
    "x_trees = ExtraTreeClassifier()\n",
    "\n",
    "cross_val_score(x_trees, X,y,cv= 5).mean()"
   ]
  },
  {
   "cell_type": "markdown",
   "metadata": {},
   "source": [
    "#### K-Nearest Neighbors"
   ]
  },
  {
   "cell_type": "code",
   "execution_count": 26,
   "metadata": {
    "ExecuteTime": {
     "end_time": "2021-02-08T19:42:39.534075Z",
     "start_time": "2021-02-08T19:42:38.717396Z"
    },
    "pycharm": {
     "name": "#%%\n"
    }
   },
   "outputs": [
    {
     "data": {
      "text/plain": [
       "0.7643179570246141"
      ]
     },
     "execution_count": 26,
     "metadata": {},
     "output_type": "execute_result"
    }
   ],
   "source": [
    "knn = KNeighborsClassifier()\n",
    "\n",
    "cross_val_score(knn, X,y,cv= 5).mean()"
   ]
  },
  {
   "cell_type": "markdown",
   "metadata": {
    "ExecuteTime": {
     "end_time": "2021-02-08T17:37:55.002767Z",
     "start_time": "2021-02-08T17:37:54.659854Z"
    }
   },
   "source": [
    "|         TEST        | Cross Val Score |\n",
    "|:-------------------:|:---------------:|\n",
    "| Random Forest       | 0.8477          |\n",
    "| SVC                 | 0.7683          |\n",
    "| Ada boost           | 0.8577          |\n",
    "| Logistic Regression | 0.7926          |\n",
    "| Decision Tree       | 0.8036          |\n",
    "| Extra Trees         | 0.7887          |\n",
    "| K-Nearest Neighbors | 0.7643          |\n",
    "|                     |                 |\n",
    "\n",
    "With these scores we decided to move forward using an ada boost model. We found it to have the best score while being the least overfit of the models that we ran."
   ]
  },
  {
   "cell_type": "markdown",
   "metadata": {},
   "source": [
    "### Setting up models with pipeline"
   ]
  },
  {
   "cell_type": "markdown",
   "metadata": {},
   "source": [
    "We did some testing setting up a pipeline for our models to confrim that there was not something to tweak in another model that would get us a better score than the ada boost."
   ]
  },
  {
   "cell_type": "code",
   "execution_count": 27,
   "metadata": {
    "ExecuteTime": {
     "end_time": "2021-02-08T19:42:43.932375Z",
     "start_time": "2021-02-08T19:42:39.536046Z"
    },
    "pycharm": {
     "name": "#%%\n"
    }
   },
   "outputs": [
    {
     "name": "stdout",
     "output_type": "stream",
     "text": [
      "Training Score:  0.8656838656838657\n",
      "Validation Score:  0.8158379373848987\n",
      "[[ 214  167]\n",
      " [ 133 1115]]\n",
      "              precision    recall  f1-score   support\n",
      "\n",
      "           0       0.62      0.56      0.59       381\n",
      "           1       0.87      0.89      0.88      1248\n",
      "\n",
      "    accuracy                           0.82      1629\n",
      "   macro avg       0.74      0.73      0.73      1629\n",
      "weighted avg       0.81      0.82      0.81      1629\n",
      "\n"
     ]
    }
   ],
   "source": [
    "pipe = Pipeline([('scaler', StandardScaler()), ('knn', KNeighborsClassifier())])\n",
    "pipe.fit(X_train, y_train)\n",
    "print(f'Training Score: ', pipe.score(X_train,y_train))\n",
    "print(f'Validation Score: ', pipe.score(X_val, y_val))\n",
    "predictions = pipe.predict(X_val)\n",
    "print(confusion_matrix(y_val, predictions))\n",
    "print(classification_report(y_val, predictions))"
   ]
  },
  {
   "cell_type": "code",
   "execution_count": 28,
   "metadata": {
    "ExecuteTime": {
     "end_time": "2021-02-08T19:42:44.449758Z",
     "start_time": "2021-02-08T19:42:43.933342Z"
    },
    "pycharm": {
     "name": "#%%\n"
    }
   },
   "outputs": [
    {
     "name": "stdout",
     "output_type": "stream",
     "text": [
      "Training Score:  0.8486895986895987\n",
      "Validation Score:  0.861878453038674\n"
     ]
    }
   ],
   "source": [
    "pipe = Pipeline([('scaler', StandardScaler()),('boost', AdaBoostClassifier())])\n",
    "pipe.fit(X_train, y_train)\n",
    "print(f'Training Score: ', pipe.score(X_train,y_train))\n",
    "print(f'Validation Score: ', pipe.score(X_val, y_val))"
   ]
  },
  {
   "cell_type": "code",
   "execution_count": 29,
   "metadata": {
    "ExecuteTime": {
     "end_time": "2021-02-08T19:42:44.493668Z",
     "start_time": "2021-02-08T19:42:44.451753Z"
    },
    "pycharm": {
     "name": "#%%\n"
    }
   },
   "outputs": [
    {
     "name": "stdout",
     "output_type": "stream",
     "text": [
      "[[ 246  135]\n",
      " [  90 1158]]\n",
      "              precision    recall  f1-score   support\n",
      "\n",
      "           0       0.73      0.65      0.69       381\n",
      "           1       0.90      0.93      0.91      1248\n",
      "\n",
      "    accuracy                           0.86      1629\n",
      "   macro avg       0.81      0.79      0.80      1629\n",
      "weighted avg       0.86      0.86      0.86      1629\n",
      "\n"
     ]
    }
   ],
   "source": [
    "predictions = pipe.predict(X_val)\n",
    "print(confusion_matrix(y_val, predictions))\n",
    "print(classification_report(y_val, predictions))"
   ]
  },
  {
   "cell_type": "markdown",
   "metadata": {},
   "source": [
    "Our ada boost still leaves us with the best score, and the fewest amount of false negaitves, which had been worrying us as the number of false negatives always seemed to be large compared to the total number of negatives."
   ]
  },
  {
   "cell_type": "markdown",
   "metadata": {},
   "source": [
    "### Adjusting paramaters with grid gearch"
   ]
  },
  {
   "cell_type": "markdown",
   "metadata": {},
   "source": [
    "To further nail down how we can improve the model and perhaps get rid of some of those faslse negatives we looked to tune the parameters with a grid search."
   ]
  },
  {
   "cell_type": "code",
   "execution_count": 31,
   "metadata": {
    "ExecuteTime": {
     "end_time": "2021-02-08T19:42:57.559695Z",
     "start_time": "2021-02-08T19:42:57.203437Z"
    },
    "pycharm": {
     "name": "#%%\n"
    }
   },
   "outputs": [
    {
     "data": {
      "text/html": [
       "<div>\n",
       "<style scoped>\n",
       "    .dataframe tbody tr th:only-of-type {\n",
       "        vertical-align: middle;\n",
       "    }\n",
       "\n",
       "    .dataframe tbody tr th {\n",
       "        vertical-align: top;\n",
       "    }\n",
       "\n",
       "    .dataframe thead th {\n",
       "        text-align: right;\n",
       "    }\n",
       "</style>\n",
       "<table border=\"1\" class=\"dataframe\">\n",
       "  <thead>\n",
       "    <tr style=\"text-align: right;\">\n",
       "      <th></th>\n",
       "      <th>0</th>\n",
       "      <th>values</th>\n",
       "    </tr>\n",
       "  </thead>\n",
       "  <tbody>\n",
       "    <tr>\n",
       "      <th>2</th>\n",
       "      <td>education-num</td>\n",
       "      <td>0.12</td>\n",
       "    </tr>\n",
       "    <tr>\n",
       "      <th>3</th>\n",
       "      <td>capital-gain</td>\n",
       "      <td>0.12</td>\n",
       "    </tr>\n",
       "    <tr>\n",
       "      <th>5</th>\n",
       "      <td>hours-per-week</td>\n",
       "      <td>0.12</td>\n",
       "    </tr>\n",
       "    <tr>\n",
       "      <th>1</th>\n",
       "      <td>fnlwgt</td>\n",
       "      <td>0.12</td>\n",
       "    </tr>\n",
       "    <tr>\n",
       "      <th>0</th>\n",
       "      <td>age</td>\n",
       "      <td>0.10</td>\n",
       "    </tr>\n",
       "    <tr>\n",
       "      <th>4</th>\n",
       "      <td>capital-loss</td>\n",
       "      <td>0.06</td>\n",
       "    </tr>\n",
       "    <tr>\n",
       "      <th>25</th>\n",
       "      <td>sex_ Male</td>\n",
       "      <td>0.04</td>\n",
       "    </tr>\n",
       "    <tr>\n",
       "      <th>27</th>\n",
       "      <td>marital-status_ Married-civ-spouse</td>\n",
       "      <td>0.04</td>\n",
       "    </tr>\n",
       "    <tr>\n",
       "      <th>24</th>\n",
       "      <td>relationship_ Wife</td>\n",
       "      <td>0.04</td>\n",
       "    </tr>\n",
       "    <tr>\n",
       "      <th>9</th>\n",
       "      <td>occupation_ Exec-managerial</td>\n",
       "      <td>0.02</td>\n",
       "    </tr>\n",
       "    <tr>\n",
       "      <th>16</th>\n",
       "      <td>occupation_ Protective-serv</td>\n",
       "      <td>0.02</td>\n",
       "    </tr>\n",
       "    <tr>\n",
       "      <th>10</th>\n",
       "      <td>occupation_ Farming-fishing</td>\n",
       "      <td>0.02</td>\n",
       "    </tr>\n",
       "    <tr>\n",
       "      <th>23</th>\n",
       "      <td>relationship_ Unmarried</td>\n",
       "      <td>0.02</td>\n",
       "    </tr>\n",
       "    <tr>\n",
       "      <th>22</th>\n",
       "      <td>relationship_ Own-child</td>\n",
       "      <td>0.02</td>\n",
       "    </tr>\n",
       "    <tr>\n",
       "      <th>18</th>\n",
       "      <td>occupation_ Tech-support</td>\n",
       "      <td>0.02</td>\n",
       "    </tr>\n",
       "    <tr>\n",
       "      <th>21</th>\n",
       "      <td>relationship_ Other-relative</td>\n",
       "      <td>0.02</td>\n",
       "    </tr>\n",
       "    <tr>\n",
       "      <th>15</th>\n",
       "      <td>occupation_ Prof-specialty</td>\n",
       "      <td>0.02</td>\n",
       "    </tr>\n",
       "    <tr>\n",
       "      <th>13</th>\n",
       "      <td>occupation_ Other-service</td>\n",
       "      <td>0.02</td>\n",
       "    </tr>\n",
       "    <tr>\n",
       "      <th>52</th>\n",
       "      <td>native-country_ Guatemala</td>\n",
       "      <td>0.02</td>\n",
       "    </tr>\n",
       "    <tr>\n",
       "      <th>12</th>\n",
       "      <td>occupation_ Machine-op-inspct</td>\n",
       "      <td>0.02</td>\n",
       "    </tr>\n",
       "  </tbody>\n",
       "</table>\n",
       "</div>"
      ],
      "text/plain": [
       "                                     0  values\n",
       "2                        education-num    0.12\n",
       "3                         capital-gain    0.12\n",
       "5                       hours-per-week    0.12\n",
       "1                               fnlwgt    0.12\n",
       "0                                  age    0.10\n",
       "4                         capital-loss    0.06\n",
       "25                           sex_ Male    0.04\n",
       "27  marital-status_ Married-civ-spouse    0.04\n",
       "24                  relationship_ Wife    0.04\n",
       "9          occupation_ Exec-managerial    0.02\n",
       "16         occupation_ Protective-serv    0.02\n",
       "10         occupation_ Farming-fishing    0.02\n",
       "23             relationship_ Unmarried    0.02\n",
       "22             relationship_ Own-child    0.02\n",
       "18            occupation_ Tech-support    0.02\n",
       "21        relationship_ Other-relative    0.02\n",
       "15          occupation_ Prof-specialty    0.02\n",
       "13           occupation_ Other-service    0.02\n",
       "52           native-country_ Guatemala    0.02\n",
       "12       occupation_ Machine-op-inspct    0.02"
      ]
     },
     "execution_count": 31,
     "metadata": {},
     "output_type": "execute_result"
    }
   ],
   "source": [
    "boost = AdaBoostClassifier()\n",
    "boost.fit(X_train,y_train)\n",
    "\n",
    "values = boost.feature_importances_\n",
    "\n",
    "feat = pd.DataFrame(features)\n",
    "feat['values'] = values\n",
    "\n",
    "feat.sort_values(by= 'values', ascending=False).head(20)"
   ]
  },
  {
   "cell_type": "code",
   "execution_count": 30,
   "metadata": {
    "ExecuteTime": {
     "end_time": "2021-02-08T17:51:49.309743Z",
     "start_time": "2021-02-08T17:50:05.317090Z"
    },
    "pycharm": {
     "name": "#%%\n"
    }
   },
   "outputs": [
    {
     "name": "stdout",
     "output_type": "stream",
     "text": [
      "Training Score:  0.8718263718263718\n",
      "Validation Score:  0.8514426028238183\n",
      "{'n_estimators': 298}\n",
      "0.8529896639092571\n"
     ]
    }
   ],
   "source": [
    "#weight features and adjust hyperparameters.\n",
    "#what if for feature with an importance below .1  we multiply the\n",
    "estimators = np.random.randint(10,300,90)\n",
    "params = dict(n_estimators= estimators)\n",
    "\n",
    "grid = GridSearchCV(AdaBoostClassifier(), param_grid=params, n_jobs=-1, cv= 5)\n",
    "grid.fit(X_train,y_train)\n",
    "print(f'Training Score: ', grid.score(X_train,y_train))\n",
    "print(f'Validation Score: ', grid.score(X_val,y_val))\n",
    "print(grid.best_params_)\n",
    "print(grid.best_score_)"
   ]
  },
  {
   "cell_type": "code",
   "execution_count": null,
   "metadata": {
    "pycharm": {
     "name": "#%%\n"
    }
   },
   "outputs": [],
   "source": [
    "l_rate = np.logspace(-2,0,10)\n",
    "estimators = np.random.randint(100,200,5)\n",
    "criterion = ('friedman_mse', 'mse', 'mae')\n",
    "max_features = (None, 'sqrt', 'log2')\n",
    "params = dict(n_estimators= estimators,\n",
    "              learning_rate= l_rate,\n",
    "              criterion= criterion,\n",
    "              max_features= max_features)"
   ]
  },
  {
   "cell_type": "markdown",
   "metadata": {},
   "source": [
    "The grid search provided us with the best paramets to use with our model."
   ]
  },
  {
   "cell_type": "markdown",
   "metadata": {},
   "source": [
    "## Conclusion\n"
   ]
  },
  {
   "cell_type": "markdown",
   "metadata": {},
   "source": [
    "Our final models performs much better than the baseline with an accuracy of 87% on our testing data. We were able to put together a model with the data provided to us and tweak our features and parameters to create the best model that we could with the given data."
   ]
  }
 ],
 "metadata": {
  "kernelspec": {
   "display_name": "Python 3",
   "language": "python",
   "name": "python3"
  },
  "language_info": {
   "codemirror_mode": {
    "name": "ipython",
    "version": 3
   },
   "file_extension": ".py",
   "mimetype": "text/x-python",
   "name": "python",
   "nbconvert_exporter": "python",
   "pygments_lexer": "ipython3",
   "version": "3.8.5"
  }
 },
 "nbformat": 4,
 "nbformat_minor": 4
}

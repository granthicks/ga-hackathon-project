{
 "cells": [
  {
   "cell_type": "markdown",
   "metadata": {},
   "source": [
    "## Project 4   Hack-a-thon\n",
    "\n",
    "### Max Bermont, Yunus Herman, Grant Hicks\n",
    "\n",
    "### Problem Statement:\n",
    "\n",
    "We have been tasked with creating a model that will predict if a person's income is greater than \\\\$50,000 given certain profile information. The information that we were given to create our model is from an extraction of data from the 1994 Census database. Since the client which hired us to create the model wants things to be as 'cost-efficient' as possible, they only provided us with a limited amount of data to create our model. We want to know if we can make a prediction if someone is likely to have an income of greater than \\\\$50,000 using the limited amount of data that we have at our disposal."
   ]
  },
  {
   "cell_type": "code",
   "execution_count": 1,
   "metadata": {
    "ExecuteTime": {
     "end_time": "2021-02-08T21:23:01.092295Z",
     "start_time": "2021-02-08T21:22:59.435745Z"
    },
    "pycharm": {
     "name": "#%%\n"
    }
   },
   "outputs": [],
   "source": [
    "#Imports\n",
    "\n",
    "import pandas as pd\n",
    "import numpy as np\n",
    "\n",
    "import matplotlib.pyplot as plt\n",
    "import seaborn as sns\n",
    "\n",
    "from sklearn.model_selection import train_test_split, GridSearchCV, cross_val_score\n",
    "from sklearn.svm import SVC\n",
    "from sklearn.tree import ExtraTreeClassifier, DecisionTreeClassifier\n",
    "from sklearn.ensemble import RandomForestClassifier, AdaBoostClassifier, GradientBoostingClassifier\n",
    "from sklearn.linear_model import LogisticRegression\n",
    "from sklearn.pipeline import Pipeline\n",
    "from sklearn.preprocessing import StandardScaler\n",
    "from sklearn.metrics import confusion_matrix, classification_report, f1_score\n",
    "from sklearn.neighbors import KNeighborsClassifier"
   ]
  },
  {
   "cell_type": "markdown",
   "metadata": {
    "pycharm": {
     "name": "#%% md\n"
    }
   },
   "source": [
    "### Reading in the Data"
   ]
  },
  {
   "cell_type": "code",
   "execution_count": 2,
   "metadata": {
    "ExecuteTime": {
     "end_time": "2021-02-08T21:23:01.831457Z",
     "start_time": "2021-02-08T21:23:01.809481Z"
    },
    "pycharm": {
     "name": "#%%\n"
    }
   },
   "outputs": [],
   "source": [
    "# Reading in the dataframe as df\n",
    "\n",
    "df = pd.read_csv('./data/cheap_train_sample.csv')"
   ]
  },
  {
   "cell_type": "code",
   "execution_count": 3,
   "metadata": {
    "ExecuteTime": {
     "end_time": "2021-02-08T21:23:05.012267Z",
     "start_time": "2021-02-08T21:23:04.971350Z"
    },
    "pycharm": {
     "name": "#%%\n"
    }
   },
   "outputs": [],
   "source": [
    "#read in test_data.csv\n",
    "test = pd.read_csv('./data/test_data.csv')"
   ]
  },
  {
   "cell_type": "code",
   "execution_count": 4,
   "metadata": {
    "ExecuteTime": {
     "end_time": "2021-02-08T21:23:06.214638Z",
     "start_time": "2021-02-08T21:23:06.200650Z"
    },
    "pycharm": {
     "name": "#%%\n"
    }
   },
   "outputs": [
    {
     "name": "stdout",
     "output_type": "stream",
     "text": [
      "<class 'pandas.core.frame.DataFrame'>\n",
      "RangeIndex: 6513 entries, 0 to 6512\n",
      "Data columns (total 14 columns):\n",
      " #   Column          Non-Null Count  Dtype \n",
      "---  ------          --------------  ----- \n",
      " 0   age             6513 non-null   int64 \n",
      " 1   workclass       6513 non-null   object\n",
      " 2   fnlwgt          6513 non-null   int64 \n",
      " 3   education       6513 non-null   object\n",
      " 4   education-num   6513 non-null   int64 \n",
      " 5   marital-status  6513 non-null   object\n",
      " 6   occupation      6513 non-null   object\n",
      " 7   relationship    6513 non-null   object\n",
      " 8   sex             6513 non-null   object\n",
      " 9   capital-gain    6513 non-null   int64 \n",
      " 10  capital-loss    6513 non-null   int64 \n",
      " 11  hours-per-week  6513 non-null   int64 \n",
      " 12  native-country  6513 non-null   object\n",
      " 13  wage            6513 non-null   object\n",
      "dtypes: int64(6), object(8)\n",
      "memory usage: 712.5+ KB\n"
     ]
    }
   ],
   "source": [
    "# Checking come basic info, determining data types\n",
    "\n",
    "df.info()"
   ]
  },
  {
   "cell_type": "markdown",
   "metadata": {
    "pycharm": {
     "name": "#%% md\n"
    }
   },
   "source": [
    "We have 6,513 rows with 14 columns. So far it looks like there are no null values, but we will have to same some values to numerical values."
   ]
  },
  {
   "cell_type": "code",
   "execution_count": 5,
   "metadata": {
    "ExecuteTime": {
     "end_time": "2021-02-08T21:23:09.745809Z",
     "start_time": "2021-02-08T21:23:09.713864Z"
    },
    "pycharm": {
     "name": "#%%\n"
    }
   },
   "outputs": [
    {
     "data": {
      "text/html": [
       "<div>\n",
       "<style scoped>\n",
       "    .dataframe tbody tr th:only-of-type {\n",
       "        vertical-align: middle;\n",
       "    }\n",
       "\n",
       "    .dataframe tbody tr th {\n",
       "        vertical-align: top;\n",
       "    }\n",
       "\n",
       "    .dataframe thead th {\n",
       "        text-align: right;\n",
       "    }\n",
       "</style>\n",
       "<table border=\"1\" class=\"dataframe\">\n",
       "  <thead>\n",
       "    <tr style=\"text-align: right;\">\n",
       "      <th></th>\n",
       "      <th>age</th>\n",
       "      <th>fnlwgt</th>\n",
       "      <th>education-num</th>\n",
       "      <th>capital-gain</th>\n",
       "      <th>capital-loss</th>\n",
       "      <th>hours-per-week</th>\n",
       "    </tr>\n",
       "  </thead>\n",
       "  <tbody>\n",
       "    <tr>\n",
       "      <th>count</th>\n",
       "      <td>6513.000000</td>\n",
       "      <td>6.513000e+03</td>\n",
       "      <td>6513.000000</td>\n",
       "      <td>6513.000000</td>\n",
       "      <td>6513.000000</td>\n",
       "      <td>6513.000000</td>\n",
       "    </tr>\n",
       "    <tr>\n",
       "      <th>mean</th>\n",
       "      <td>38.529556</td>\n",
       "      <td>1.926640e+05</td>\n",
       "      <td>10.068478</td>\n",
       "      <td>1059.200829</td>\n",
       "      <td>92.108092</td>\n",
       "      <td>40.400891</td>\n",
       "    </tr>\n",
       "    <tr>\n",
       "      <th>std</th>\n",
       "      <td>13.684351</td>\n",
       "      <td>1.060173e+05</td>\n",
       "      <td>2.589238</td>\n",
       "      <td>7392.040587</td>\n",
       "      <td>413.710886</td>\n",
       "      <td>12.354685</td>\n",
       "    </tr>\n",
       "    <tr>\n",
       "      <th>min</th>\n",
       "      <td>17.000000</td>\n",
       "      <td>1.228500e+04</td>\n",
       "      <td>1.000000</td>\n",
       "      <td>0.000000</td>\n",
       "      <td>0.000000</td>\n",
       "      <td>1.000000</td>\n",
       "    </tr>\n",
       "    <tr>\n",
       "      <th>25%</th>\n",
       "      <td>27.000000</td>\n",
       "      <td>1.202380e+05</td>\n",
       "      <td>9.000000</td>\n",
       "      <td>0.000000</td>\n",
       "      <td>0.000000</td>\n",
       "      <td>40.000000</td>\n",
       "    </tr>\n",
       "    <tr>\n",
       "      <th>50%</th>\n",
       "      <td>37.000000</td>\n",
       "      <td>1.815760e+05</td>\n",
       "      <td>10.000000</td>\n",
       "      <td>0.000000</td>\n",
       "      <td>0.000000</td>\n",
       "      <td>40.000000</td>\n",
       "    </tr>\n",
       "    <tr>\n",
       "      <th>75%</th>\n",
       "      <td>48.000000</td>\n",
       "      <td>2.417530e+05</td>\n",
       "      <td>13.000000</td>\n",
       "      <td>0.000000</td>\n",
       "      <td>0.000000</td>\n",
       "      <td>45.000000</td>\n",
       "    </tr>\n",
       "    <tr>\n",
       "      <th>max</th>\n",
       "      <td>90.000000</td>\n",
       "      <td>1.366120e+06</td>\n",
       "      <td>16.000000</td>\n",
       "      <td>99999.000000</td>\n",
       "      <td>4356.000000</td>\n",
       "      <td>99.000000</td>\n",
       "    </tr>\n",
       "  </tbody>\n",
       "</table>\n",
       "</div>"
      ],
      "text/plain": [
       "               age        fnlwgt  education-num  capital-gain  capital-loss  \\\n",
       "count  6513.000000  6.513000e+03    6513.000000   6513.000000   6513.000000   \n",
       "mean     38.529556  1.926640e+05      10.068478   1059.200829     92.108092   \n",
       "std      13.684351  1.060173e+05       2.589238   7392.040587    413.710886   \n",
       "min      17.000000  1.228500e+04       1.000000      0.000000      0.000000   \n",
       "25%      27.000000  1.202380e+05       9.000000      0.000000      0.000000   \n",
       "50%      37.000000  1.815760e+05      10.000000      0.000000      0.000000   \n",
       "75%      48.000000  2.417530e+05      13.000000      0.000000      0.000000   \n",
       "max      90.000000  1.366120e+06      16.000000  99999.000000   4356.000000   \n",
       "\n",
       "       hours-per-week  \n",
       "count     6513.000000  \n",
       "mean        40.400891  \n",
       "std         12.354685  \n",
       "min          1.000000  \n",
       "25%         40.000000  \n",
       "50%         40.000000  \n",
       "75%         45.000000  \n",
       "max         99.000000  "
      ]
     },
     "execution_count": 5,
     "metadata": {},
     "output_type": "execute_result"
    }
   ],
   "source": [
    "# Looking at description of numerical data\n",
    "\n",
    "df.describe()"
   ]
  },
  {
   "cell_type": "code",
   "execution_count": 6,
   "metadata": {
    "ExecuteTime": {
     "end_time": "2021-02-08T21:23:10.425986Z",
     "start_time": "2021-02-08T21:23:10.419981Z"
    },
    "pycharm": {
     "name": "#%%\n"
    }
   },
   "outputs": [],
   "source": [
    "#Changes representation of Unknown values.\n",
    "df.replace(to_replace= ' ?', value='other', inplace=True)"
   ]
  },
  {
   "cell_type": "code",
   "execution_count": 7,
   "metadata": {
    "ExecuteTime": {
     "end_time": "2021-02-08T21:23:16.740666Z",
     "start_time": "2021-02-08T21:23:16.570089Z"
    },
    "pycharm": {
     "name": "#%%\n"
    }
   },
   "outputs": [
    {
     "data": {
      "image/png": "[encoded data removed]",
      "text/plain": [
       "<Figure size 720x576 with 1 Axes>"
      ]
     },
     "metadata": {
      "needs_background": "light"
     },
     "output_type": "display_data"
    }
   ],
   "source": [
    "plt.figure(figsize = (10,8))\n",
    "plt.hist(df['age']);\n",
    "#sns.catplot(x ='age', hue ='sex', kind ='count', data = df, height = 8)\n",
    "plt.title('The distribution of Age',fontsize = 16,fontweight='bold')\n",
    "plt.xticks(rotation = 0, fontsize = 12)\n",
    "plt.yticks(rotation = 0, fontsize = 12);"
   ]
  },
  {
   "cell_type": "code",
   "execution_count": 8,
   "metadata": {
    "ExecuteTime": {
     "end_time": "2021-02-08T21:23:19.356045Z",
     "start_time": "2021-02-08T21:23:19.142616Z"
    },
    "pycharm": {
     "name": "#%%\n"
    }
   },
   "outputs": [
    {
     "data": {
      "text/plain": [
       "<AxesSubplot:>"
      ]
     },
     "execution_count": 8,
     "metadata": {},
     "output_type": "execute_result"
    },
    {
     "data": {
      "image/png": "[encoded data removed]",
      "text/plain": [
       "<Figure size 432x288 with 2 Axes>"
      ]
     },
     "metadata": {
      "needs_background": "light"
     },
     "output_type": "display_data"
    }
   ],
   "source": [
    "# Checking correlation heatmap for any standout correlations\n",
    "\n",
    "sns.heatmap(df.corr(), cmap='coolwarm')"
   ]
  },
  {
   "cell_type": "code",
   "execution_count": 9,
   "metadata": {
    "ExecuteTime": {
     "end_time": "2021-02-08T21:23:26.194521Z",
     "start_time": "2021-02-08T21:23:25.774573Z"
    },
    "pycharm": {
     "name": "#%%\n"
    }
   },
   "outputs": [
    {
     "data": {
      "text/plain": [
       "<Figure size 720x576 with 0 Axes>"
      ]
     },
     "metadata": {},
     "output_type": "display_data"
    },
    {
     "data": {
      "image/png": "[encoded data removed]",
      "text/plain": [
       "<Figure size 651.25x576 with 1 Axes>"
      ]
     },
     "metadata": {
      "needs_background": "light"
     },
     "output_type": "display_data"
    }
   ],
   "source": [
    "# clean object features to be numeric.\n",
    "# a lot of features for a limited amount of unique data points.\n",
    "\n",
    "df#%%\n",
    "\n",
    "plt.figure(figsize = (10,8))\n",
    "#plt.hist(df['workclass']);\n",
    "sns.catplot(x ='workclass', hue ='sex', kind ='count', data = df, height = 8)\n",
    "plt.title('The distribution of Workclass',fontsize = 16,fontweight='bold')\n",
    "plt.xticks(rotation = 30, fontsize = 12)\n",
    "plt.yticks(rotation = 0, fontsize = 12);"
   ]
  },
  {
   "cell_type": "code",
   "execution_count": 10,
   "metadata": {
    "ExecuteTime": {
     "end_time": "2021-02-08T21:23:28.715207Z",
     "start_time": "2021-02-08T21:23:28.564581Z"
    },
    "pycharm": {
     "name": "#%%\n"
    }
   },
   "outputs": [
    {
     "data": {
      "image/png": "[encoded data removed]",
      "text/plain": [
       "<Figure size 720x576 with 1 Axes>"
      ]
     },
     "metadata": {
      "needs_background": "light"
     },
     "output_type": "display_data"
    }
   ],
   "source": [
    "plt.figure(figsize = (10,8))\n",
    "plt.hist(df['fnlwgt']);\n",
    "#sns.catplot(x ='fnlwgt', hue ='sex', kind ='count', data = df, height = 8)\n",
    "plt.title('The distribution of Final Wighting',fontsize = 16,fontweight='bold')\n",
    "plt.xticks(rotation = 30, fontsize = 12)\n",
    "plt.yticks(rotation = 0, fontsize = 12);"
   ]
  },
  {
   "cell_type": "code",
   "execution_count": 11,
   "metadata": {
    "ExecuteTime": {
     "end_time": "2021-02-08T21:23:31.387241Z",
     "start_time": "2021-02-08T21:23:30.894559Z"
    },
    "pycharm": {
     "name": "#%%\n"
    }
   },
   "outputs": [
    {
     "data": {
      "text/plain": [
       "<Figure size 1440x576 with 0 Axes>"
      ]
     },
     "metadata": {},
     "output_type": "display_data"
    },
    {
     "data": {
      "image/png": "[encoded data removed]",
      "text/plain": [
       "<Figure size 939.25x864 with 1 Axes>"
      ]
     },
     "metadata": {
      "needs_background": "light"
     },
     "output_type": "display_data"
    }
   ],
   "source": [
    "df_ed = df.sort_values(by = 'education')\n",
    "plt.figure(figsize = (20,8))\n",
    "#plt.hist(df['education']);\n",
    "sns.catplot(x ='education', hue ='sex', kind ='count', data = df_ed, height = 12)\n",
    "plt.title('The distribution of Education',fontsize = 16,fontweight='bold')\n",
    "plt.xticks(rotation = 30, fontsize = 10)\n",
    "plt.yticks(rotation = 0, fontsize = 12);"
   ]
  },
  {
   "cell_type": "code",
   "execution_count": 12,
   "metadata": {
    "ExecuteTime": {
     "end_time": "2021-02-08T21:23:37.576504Z",
     "start_time": "2021-02-08T21:23:37.164139Z"
    },
    "pycharm": {
     "name": "#%%\n"
    }
   },
   "outputs": [
    {
     "data": {
      "text/plain": [
       "<Figure size 720x576 with 0 Axes>"
      ]
     },
     "metadata": {},
     "output_type": "display_data"
    },
    {
     "data": {
      "image/png": "[encoded data removed]",
      "text/plain": [
       "<Figure size 651.25x576 with 1 Axes>"
      ]
     },
     "metadata": {
      "needs_background": "light"
     },
     "output_type": "display_data"
    }
   ],
   "source": [
    "plt.figure(figsize = (10,8))\n",
    "#plt.hist(df['marital-status'])\n",
    "sns.catplot(x ='marital-status', hue ='sex', kind ='count', data = df, height = 8)\n",
    "plt.title('The distribution of Marital Status',fontsize = 16,fontweight='bold')\n",
    "plt.xticks(rotation = 30, fontsize = 10)\n",
    "plt.yticks(rotation = 0, fontsize = 12);"
   ]
  },
  {
   "cell_type": "code",
   "execution_count": 13,
   "metadata": {
    "ExecuteTime": {
     "end_time": "2021-02-08T21:23:40.846934Z",
     "start_time": "2021-02-08T21:23:40.326293Z"
    },
    "pycharm": {
     "name": "#%%\n"
    }
   },
   "outputs": [
    {
     "data": {
      "text/plain": [
       "<Figure size 720x576 with 0 Axes>"
      ]
     },
     "metadata": {},
     "output_type": "display_data"
    },
    {
     "data": {
      "image/png": "[encoded data removed]",
      "text/plain": [
       "<Figure size 651.25x576 with 1 Axes>"
      ]
     },
     "metadata": {
      "needs_background": "light"
     },
     "output_type": "display_data"
    }
   ],
   "source": [
    "plt.figure(figsize = (10,8))\n",
    "#plt.hist(df['occupation'])\n",
    "sns.catplot(x ='occupation', hue ='sex', kind ='count', data = df, height = 8)\n",
    "plt.title('The distribution of Ocupation',fontsize = 16,fontweight='bold')\n",
    "plt.xticks(rotation = 30, fontsize = 10)\n",
    "plt.yticks(rotation = 0, fontsize = 10);"
   ]
  },
  {
   "cell_type": "code",
   "execution_count": 14,
   "metadata": {
    "ExecuteTime": {
     "end_time": "2021-02-08T21:23:43.526759Z",
     "start_time": "2021-02-08T21:23:43.199063Z"
    },
    "pycharm": {
     "name": "#%%\n"
    }
   },
   "outputs": [
    {
     "data": {
      "text/plain": [
       "<Figure size 720x576 with 0 Axes>"
      ]
     },
     "metadata": {},
     "output_type": "display_data"
    },
    {
     "data": {
      "image/png": "[encoded data removed]",
      "text/plain": [
       "<Figure size 651.25x576 with 1 Axes>"
      ]
     },
     "metadata": {
      "needs_background": "light"
     },
     "output_type": "display_data"
    }
   ],
   "source": [
    "plt.figure(figsize = (10,8))\n",
    "#plt.hist(df['relationship'])\n",
    "sns.catplot(x ='relationship', hue ='sex', kind ='count', data = df, height = 8)\n",
    "plt.title('The distribution of Relationship',fontsize = 16,fontweight='bold')\n",
    "plt.xticks(rotation = 30, fontsize = 10)\n",
    "plt.yticks(rotation = 0, fontsize = 10);"
   ]
  },
  {
   "cell_type": "code",
   "execution_count": 15,
   "metadata": {
    "ExecuteTime": {
     "end_time": "2021-02-08T21:23:46.164461Z",
     "start_time": "2021-02-08T21:23:46.015824Z"
    },
    "pycharm": {
     "name": "#%%\n"
    }
   },
   "outputs": [
    {
     "data": {
      "image/png": "[encoded data removed]",
      "text/plain": [
       "<Figure size 720x576 with 1 Axes>"
      ]
     },
     "metadata": {
      "needs_background": "light"
     },
     "output_type": "display_data"
    }
   ],
   "source": [
    "plt.figure(figsize = (10,8))\n",
    "plt.hist(df['capital-gain'], bins = 20)\n",
    "#sns.catplot(x ='capital-gain', hue ='sex', kind ='count', data = df, height = 8, bins = 20)\n",
    "plt.title('The distribution of Capital - gain',fontsize = 16,fontweight='bold')\n",
    "plt.xticks(rotation = 30, fontsize = 10)\n",
    "plt.yticks(rotation = 0, fontsize = 10);"
   ]
  },
  {
   "cell_type": "code",
   "execution_count": 16,
   "metadata": {
    "ExecuteTime": {
     "end_time": "2021-02-08T21:23:48.714127Z",
     "start_time": "2021-02-08T21:23:48.576496Z"
    },
    "pycharm": {
     "name": "#%%\n"
    }
   },
   "outputs": [
    {
     "data": {
      "image/png": "[encoded data removed]",
      "text/plain": [
       "<Figure size 720x576 with 1 Axes>"
      ]
     },
     "metadata": {
      "needs_background": "light"
     },
     "output_type": "display_data"
    }
   ],
   "source": [
    "plt.figure(figsize = (10,8))\n",
    "plt.hist(df['capital-loss'], bins = 20)\n",
    "#sns.catplot(x ='capital-gain', hue ='sex', kind ='count', data = df, height = 8, bins = 20)\n",
    "plt.title('The distribution of Capital - loss',fontsize = 16,fontweight='bold')\n",
    "plt.xticks(rotation = 30, fontsize = 10)\n",
    "plt.yticks(rotation = 0, fontsize = 10);"
   ]
  },
  {
   "cell_type": "markdown",
   "metadata": {
    "pycharm": {
     "name": "#%% md\n"
    }
   },
   "source": [
    "## Preparing the Data\n"
   ]
  },
  {
   "cell_type": "code",
   "execution_count": 17,
   "metadata": {
    "ExecuteTime": {
     "end_time": "2021-02-08T21:23:51.855096Z",
     "start_time": "2021-02-08T21:23:51.817199Z"
    },
    "pycharm": {
     "name": "#%%\n"
    }
   },
   "outputs": [
    {
     "name": "stdout",
     "output_type": "stream",
     "text": [
      "Number of Columns in Training data:  82\n",
      "NUmber of Columns in Testing data:   81\n"
     ]
    }
   ],
   "source": [
    "df = pd.get_dummies(df, columns=['occupation','relationship', 'sex', 'marital-status', 'workclass', 'native-country'],\n",
    "                    drop_first=True)\n",
    "test = pd.get_dummies(test, columns=['occupation','relationship', 'sex', 'marital-status', 'workclass', 'native-country'],\n",
    "                    drop_first=True)\n",
    "print(f'Number of Columns in Training data: ',len(df.columns))\n",
    "print(f'NUmber of Columns in Testing data:  ', len(test.columns))\n",
    "#note the columns are the same length and"
   ]
  },
  {
   "cell_type": "code",
   "execution_count": 18,
   "metadata": {
    "ExecuteTime": {
     "end_time": "2021-02-08T21:23:54.379012Z",
     "start_time": "2021-02-08T21:23:54.373013Z"
    },
    "pycharm": {
     "name": "#%%\n"
    }
   },
   "outputs": [
    {
     "data": {
      "text/plain": [
       " <=50K    4945\n",
       " >50K     1568\n",
       "Name: wage, dtype: int64"
      ]
     },
     "execution_count": 18,
     "metadata": {},
     "output_type": "execute_result"
    }
   ],
   "source": [
    "df.wage.value_counts()\n",
    "#below or equal to 50k will be true."
   ]
  },
  {
   "cell_type": "code",
   "execution_count": 19,
   "metadata": {
    "ExecuteTime": {
     "end_time": "2021-02-08T21:23:55.879081Z",
     "start_time": "2021-02-08T21:23:55.873098Z"
    },
    "pycharm": {
     "name": "#%%\n"
    }
   },
   "outputs": [],
   "source": [
    "# Creating our y-column\n",
    "\n",
    "df['wage'] = [0 if wage == ' <=50K' else 1 for wage in df.wage]"
   ]
  },
  {
   "cell_type": "code",
   "execution_count": 20,
   "metadata": {
    "ExecuteTime": {
     "end_time": "2021-02-08T21:23:56.439645Z",
     "start_time": "2021-02-08T21:23:56.434628Z"
    },
    "pycharm": {
     "name": "#%%\n"
    }
   },
   "outputs": [
    {
     "data": {
      "text/plain": [
       "0    4945\n",
       "1    1568\n",
       "Name: wage, dtype: int64"
      ]
     },
     "execution_count": 20,
     "metadata": {},
     "output_type": "execute_result"
    }
   ],
   "source": [
    "df.wage.value_counts()"
   ]
  },
  {
   "cell_type": "code",
   "execution_count": 21,
   "metadata": {
    "ExecuteTime": {
     "end_time": "2021-02-08T21:23:57.195460Z",
     "start_time": "2021-02-08T21:23:57.183426Z"
    },
    "pycharm": {
     "name": "#%%\n"
    }
   },
   "outputs": [],
   "source": [
    "# Splitting the data into our train and test sets, we are dropping the 'education' column as\n",
    "# they also provied us with a numerical version of that column\n",
    "\n",
    "X = df.drop(columns=['wage', 'education'])\n",
    "features = X.columns\n",
    "y = df['wage']\n",
    "\n",
    "X_train, X_val, y_train, y_val = train_test_split(X,y, random_state=420)"
   ]
  },
  {
   "cell_type": "code",
   "execution_count": 22,
   "metadata": {
    "ExecuteTime": {
     "end_time": "2021-02-08T21:23:59.073852Z",
     "start_time": "2021-02-08T21:23:59.067869Z"
    },
    "pycharm": {
     "name": "#%%\n"
    }
   },
   "outputs": [
    {
     "data": {
      "text/plain": [
       "0.24074927068939045"
      ]
     },
     "execution_count": 22,
     "metadata": {},
     "output_type": "execute_result"
    }
   ],
   "source": [
    "#Baseline score\n",
    "\n",
    "guess = [1 if pred == 1 else 0 for pred in y]\n",
    "sum(guess)/len(guess)"
   ]
  },
  {
   "cell_type": "markdown",
   "metadata": {
    "pycharm": {
     "name": "#%% md\n"
    }
   },
   "source": [
    "## Checking Models"
   ]
  },
  {
   "cell_type": "markdown",
   "metadata": {
    "pycharm": {
     "name": "#%% md\n"
    }
   },
   "source": [
    "#### Random Forest"
   ]
  },
  {
   "cell_type": "code",
   "execution_count": 23,
   "metadata": {
    "ExecuteTime": {
     "end_time": "2021-02-08T21:24:04.883106Z",
     "start_time": "2021-02-08T21:24:02.325292Z"
    },
    "pycharm": {
     "name": "#%%\n"
    }
   },
   "outputs": [
    {
     "data": {
      "text/plain": [
       "0.8453845727630789"
      ]
     },
     "execution_count": 23,
     "metadata": {},
     "output_type": "execute_result"
    }
   ],
   "source": [
    "rfc = RandomForestClassifier()\n",
    "\n",
    "cross_val_score(rfc, X,y, cv=5).mean()"
   ]
  },
  {
   "cell_type": "markdown",
   "metadata": {
    "pycharm": {
     "name": "#%% md\n"
    }
   },
   "source": [
    "#### SVC"
   ]
  },
  {
   "cell_type": "code",
   "execution_count": 24,
   "metadata": {
    "ExecuteTime": {
     "end_time": "2021-02-08T21:24:12.984897Z",
     "start_time": "2021-02-08T21:24:04.884074Z"
    },
    "pycharm": {
     "name": "#%%\n"
    }
   },
   "outputs": [
    {
     "data": {
      "text/plain": [
       "0.7683099264016751"
      ]
     },
     "execution_count": 24,
     "metadata": {},
     "output_type": "execute_result"
    }
   ],
   "source": [
    "svc = SVC()\n",
    "cross_val_score(svc,X,y,cv= 5).mean()"
   ]
  },
  {
   "cell_type": "markdown",
   "metadata": {
    "pycharm": {
     "name": "#%% md\n"
    }
   },
   "source": [
    "#### Ada boost"
   ]
  },
  {
   "cell_type": "code",
   "execution_count": 25,
   "metadata": {
    "ExecuteTime": {
     "end_time": "2021-02-08T21:24:14.879073Z",
     "start_time": "2021-02-08T21:24:12.985863Z"
    },
    "pycharm": {
     "name": "#%%\n"
    }
   },
   "outputs": [
    {
     "data": {
      "text/plain": [
       "0.8559801144234089"
      ]
     },
     "execution_count": 25,
     "metadata": {},
     "output_type": "execute_result"
    }
   ],
   "source": [
    "boost = AdaBoostClassifier()\n",
    "\n",
    "cross_val_score(boost,X,y,cv=5).mean()"
   ]
  },
  {
   "cell_type": "markdown",
   "metadata": {
    "pycharm": {
     "name": "#%% md\n"
    }
   },
   "source": [
    "#### Logistic Regression"
   ]
  },
  {
   "cell_type": "code",
   "execution_count": 26,
   "metadata": {
    "ExecuteTime": {
     "end_time": "2021-02-08T21:24:15.242609Z",
     "start_time": "2021-02-08T21:24:14.881077Z"
    },
    "pycharm": {
     "name": "#%%\n"
    }
   },
   "outputs": [
    {
     "name": "stderr",
     "output_type": "stream",
     "text": [
      "C:\\Users\\ghick\\anaconda3\\lib\\site-packages\\sklearn\\linear_model\\_logistic.py:762: ConvergenceWarning: lbfgs failed to converge (status=1):\n",
      "STOP: TOTAL NO. of ITERATIONS REACHED LIMIT.\n",
      "\n",
      "Increase the number of iterations (max_iter) or scale the data as shown in:\n",
      "    https://scikit-learn.org/stable/modules/preprocessing.html\n",
      "Please also refer to the documentation for alternative solver options:\n",
      "    https://scikit-learn.org/stable/modules/linear_model.html#logistic-regression\n",
      "  n_iter_i = _check_optimize_result(\n"
     ]
    },
    {
     "data": {
      "text/plain": [
       "0.7950268375119216"
      ]
     },
     "execution_count": 26,
     "metadata": {},
     "output_type": "execute_result"
    }
   ],
   "source": [
    "logr= LogisticRegression()\n",
    "\n",
    "cross_val_score(logr,X,y,cv=5).mean()"
   ]
  },
  {
   "cell_type": "markdown",
   "metadata": {
    "pycharm": {
     "name": "#%% md\n"
    }
   },
   "source": [
    "#### Decision Tree"
   ]
  },
  {
   "cell_type": "code",
   "execution_count": 27,
   "metadata": {
    "ExecuteTime": {
     "end_time": "2021-02-08T21:24:15.515911Z",
     "start_time": "2021-02-08T21:24:15.244603Z"
    },
    "pycharm": {
     "name": "#%%\n"
    }
   },
   "outputs": [
    {
     "data": {
      "text/plain": [
       "0.7991717093838748"
      ]
     },
     "execution_count": 27,
     "metadata": {},
     "output_type": "execute_result"
    }
   ],
   "source": [
    "tree = DecisionTreeClassifier()\n",
    "\n",
    "cross_val_score(tree, X,y,cv=5).mean()"
   ]
  },
  {
   "cell_type": "markdown",
   "metadata": {},
   "source": [
    "#### Extra Trees"
   ]
  },
  {
   "cell_type": "code",
   "execution_count": 28,
   "metadata": {
    "ExecuteTime": {
     "end_time": "2021-02-08T21:24:15.608668Z",
     "start_time": "2021-02-08T21:24:15.516913Z"
    },
    "pycharm": {
     "name": "#%%\n"
    }
   },
   "outputs": [
    {
     "data": {
      "text/plain": [
       "0.7899581846453829"
      ]
     },
     "execution_count": 28,
     "metadata": {},
     "output_type": "execute_result"
    }
   ],
   "source": [
    "x_trees = ExtraTreeClassifier()\n",
    "\n",
    "cross_val_score(x_trees, X,y,cv= 5).mean()"
   ]
  },
  {
   "cell_type": "markdown",
   "metadata": {},
   "source": [
    "#### K-Nearest Neighbors"
   ]
  },
  {
   "cell_type": "code",
   "execution_count": 29,
   "metadata": {
    "ExecuteTime": {
     "end_time": "2021-02-08T21:24:16.405636Z",
     "start_time": "2021-02-08T21:24:15.610679Z"
    },
    "pycharm": {
     "name": "#%%\n"
    }
   },
   "outputs": [
    {
     "data": {
      "text/plain": [
       "0.7643179570246141"
      ]
     },
     "execution_count": 29,
     "metadata": {},
     "output_type": "execute_result"
    }
   ],
   "source": [
    "knn = KNeighborsClassifier()\n",
    "\n",
    "cross_val_score(knn, X,y,cv= 5).mean()"
   ]
  },
  {
   "cell_type": "markdown",
   "metadata": {},
   "source": [
    "|         TEST        | Cross Val Score |\n",
    "|:-------------------:|:---------------:|\n",
    "| Random Forest       | 0.8477          |\n",
    "| SVC                 | 0.7683          |\n",
    "| Ada boost           | 0.8577          |\n",
    "| Logistic Regression | 0.7926          |\n",
    "| Decision Tree       | 0.8036          |\n",
    "| Extra Trees         | 0.7887          |\n",
    "| K-Nearest Neighbors | 0.7643          |\n",
    "|                     |                 |\n",
    "\n",
    "With these scores we decided to move forward using an ada boost model. We found it to have the best score while being the least overfit of the models that we ran."
   ]
  },
  {
   "cell_type": "markdown",
   "metadata": {},
   "source": [
    "### Setting up models with pipeline"
   ]
  },
  {
   "cell_type": "markdown",
   "metadata": {},
   "source": [
    "We did some testing setting up a pipeline for our models to confrim that there was not something to tweak in another model that would get us a better score than the ada boost."
   ]
  },
  {
   "cell_type": "code",
   "execution_count": 30,
   "metadata": {
    "ExecuteTime": {
     "end_time": "2021-02-08T21:25:17.625890Z",
     "start_time": "2021-02-08T21:25:13.628750Z"
    },
    "pycharm": {
     "name": "#%%\n"
    }
   },
   "outputs": [
    {
     "name": "stdout",
     "output_type": "stream",
     "text": [
      "Training Score:  0.8673218673218673\n",
      "Validation Score:  0.8158379373848987\n",
      "[[1120  128]\n",
      " [ 172  209]]\n",
      "              precision    recall  f1-score   support\n",
      "\n",
      "           0       0.87      0.90      0.88      1248\n",
      "           1       0.62      0.55      0.58       381\n",
      "\n",
      "    accuracy                           0.82      1629\n",
      "   macro avg       0.74      0.72      0.73      1629\n",
      "weighted avg       0.81      0.82      0.81      1629\n",
      "\n"
     ]
    }
   ],
   "source": [
    "pipe = Pipeline([('scaler', StandardScaler()), ('knn', KNeighborsClassifier())])\n",
    "pipe.fit(X_train, y_train)\n",
    "print(f'Training Score: ', pipe.score(X_train,y_train))\n",
    "print(f'Validation Score: ', pipe.score(X_val, y_val))\n",
    "predictions = pipe.predict(X_val)\n",
    "print(confusion_matrix(y_val, predictions))\n",
    "print(classification_report(y_val, predictions))"
   ]
  },
  {
   "cell_type": "code",
   "execution_count": 31,
   "metadata": {
    "ExecuteTime": {
     "end_time": "2021-02-08T21:25:24.167638Z",
     "start_time": "2021-02-08T21:25:23.704841Z"
    },
    "pycharm": {
     "name": "#%%\n"
    }
   },
   "outputs": [
    {
     "name": "stdout",
     "output_type": "stream",
     "text": [
      "Training Score:  0.8536036036036037\n",
      "Validation Score:  0.8637200736648251\n"
     ]
    }
   ],
   "source": [
    "pipe = Pipeline([('scaler', StandardScaler()),('boost', AdaBoostClassifier())])\n",
    "pipe.fit(X_train, y_train)\n",
    "print(f'Training Score: ', pipe.score(X_train,y_train))\n",
    "print(f'Validation Score: ', pipe.score(X_val, y_val))"
   ]
  },
  {
   "cell_type": "code",
   "execution_count": 32,
   "metadata": {
    "ExecuteTime": {
     "end_time": "2021-02-08T21:25:28.556260Z",
     "start_time": "2021-02-08T21:25:28.514373Z"
    },
    "pycharm": {
     "name": "#%%\n"
    }
   },
   "outputs": [
    {
     "name": "stdout",
     "output_type": "stream",
     "text": [
      "[[1167   81]\n",
      " [ 141  240]]\n",
      "              precision    recall  f1-score   support\n",
      "\n",
      "           0       0.89      0.94      0.91      1248\n",
      "           1       0.75      0.63      0.68       381\n",
      "\n",
      "    accuracy                           0.86      1629\n",
      "   macro avg       0.82      0.78      0.80      1629\n",
      "weighted avg       0.86      0.86      0.86      1629\n",
      "\n"
     ]
    }
   ],
   "source": [
    "predictions = pipe.predict(X_val)\n",
    "print(confusion_matrix(y_val, predictions))\n",
    "print(classification_report(y_val, predictions))"
   ]
  },
  {
   "cell_type": "markdown",
   "metadata": {},
   "source": [
    "Our ada boost still leaves us with the best score, and the fewest amount of false negaitves, which had been worrying us as the number of false negatives always seemed to be large compared to the total number of negatives."
   ]
  },
  {
   "cell_type": "markdown",
   "metadata": {},
   "source": [
    "### Adjusting paramaters with grid gearch"
   ]
  },
  {
   "cell_type": "markdown",
   "metadata": {},
   "source": [
    "To further nail down how we can improve the model and perhaps get rid of some of those faslse negatives we looked to tune the parameters with a grid search."
   ]
  },
  {
   "cell_type": "code",
   "execution_count": 35,
   "metadata": {
    "ExecuteTime": {
     "end_time": "2021-02-08T21:25:55.878960Z",
     "start_time": "2021-02-08T21:25:55.546149Z"
    },
    "pycharm": {
     "name": "#%%\n"
    }
   },
   "outputs": [
    {
     "data": {
      "text/html": [
       "<div>\n",
       "<style scoped>\n",
       "    .dataframe tbody tr th:only-of-type {\n",
       "        vertical-align: middle;\n",
       "    }\n",
       "\n",
       "    .dataframe tbody tr th {\n",
       "        vertical-align: top;\n",
       "    }\n",
       "\n",
       "    .dataframe thead th {\n",
       "        text-align: right;\n",
       "    }\n",
       "</style>\n",
       "<table border=\"1\" class=\"dataframe\">\n",
       "  <thead>\n",
       "    <tr style=\"text-align: right;\">\n",
       "      <th></th>\n",
       "      <th>0</th>\n",
       "      <th>values</th>\n",
       "    </tr>\n",
       "  </thead>\n",
       "  <tbody>\n",
       "    <tr>\n",
       "      <th>2</th>\n",
       "      <td>education-num</td>\n",
       "      <td>0.12</td>\n",
       "    </tr>\n",
       "    <tr>\n",
       "      <th>3</th>\n",
       "      <td>capital-gain</td>\n",
       "      <td>0.12</td>\n",
       "    </tr>\n",
       "    <tr>\n",
       "      <th>1</th>\n",
       "      <td>fnlwgt</td>\n",
       "      <td>0.12</td>\n",
       "    </tr>\n",
       "    <tr>\n",
       "      <th>0</th>\n",
       "      <td>age</td>\n",
       "      <td>0.10</td>\n",
       "    </tr>\n",
       "    <tr>\n",
       "      <th>5</th>\n",
       "      <td>hours-per-week</td>\n",
       "      <td>0.10</td>\n",
       "    </tr>\n",
       "    <tr>\n",
       "      <th>4</th>\n",
       "      <td>capital-loss</td>\n",
       "      <td>0.06</td>\n",
       "    </tr>\n",
       "    <tr>\n",
       "      <th>27</th>\n",
       "      <td>marital-status_ Married-civ-spouse</td>\n",
       "      <td>0.04</td>\n",
       "    </tr>\n",
       "    <tr>\n",
       "      <th>24</th>\n",
       "      <td>relationship_ Wife</td>\n",
       "      <td>0.02</td>\n",
       "    </tr>\n",
       "    <tr>\n",
       "      <th>21</th>\n",
       "      <td>relationship_ Other-relative</td>\n",
       "      <td>0.02</td>\n",
       "    </tr>\n",
       "    <tr>\n",
       "      <th>22</th>\n",
       "      <td>relationship_ Own-child</td>\n",
       "      <td>0.02</td>\n",
       "    </tr>\n",
       "    <tr>\n",
       "      <th>23</th>\n",
       "      <td>relationship_ Unmarried</td>\n",
       "      <td>0.02</td>\n",
       "    </tr>\n",
       "    <tr>\n",
       "      <th>36</th>\n",
       "      <td>workclass_ Self-emp-not-inc</td>\n",
       "      <td>0.02</td>\n",
       "    </tr>\n",
       "    <tr>\n",
       "      <th>51</th>\n",
       "      <td>native-country_ Guatemala</td>\n",
       "      <td>0.02</td>\n",
       "    </tr>\n",
       "    <tr>\n",
       "      <th>32</th>\n",
       "      <td>workclass_ Local-gov</td>\n",
       "      <td>0.02</td>\n",
       "    </tr>\n",
       "    <tr>\n",
       "      <th>17</th>\n",
       "      <td>occupation_ Tech-support</td>\n",
       "      <td>0.02</td>\n",
       "    </tr>\n",
       "    <tr>\n",
       "      <th>37</th>\n",
       "      <td>workclass_ State-gov</td>\n",
       "      <td>0.02</td>\n",
       "    </tr>\n",
       "    <tr>\n",
       "      <th>19</th>\n",
       "      <td>occupation_other</td>\n",
       "      <td>0.02</td>\n",
       "    </tr>\n",
       "    <tr>\n",
       "      <th>25</th>\n",
       "      <td>sex_ Male</td>\n",
       "      <td>0.02</td>\n",
       "    </tr>\n",
       "    <tr>\n",
       "      <th>8</th>\n",
       "      <td>occupation_ Exec-managerial</td>\n",
       "      <td>0.02</td>\n",
       "    </tr>\n",
       "    <tr>\n",
       "      <th>15</th>\n",
       "      <td>occupation_ Protective-serv</td>\n",
       "      <td>0.02</td>\n",
       "    </tr>\n",
       "  </tbody>\n",
       "</table>\n",
       "</div>"
      ],
      "text/plain": [
       "                                     0  values\n",
       "2                        education-num    0.12\n",
       "3                         capital-gain    0.12\n",
       "1                               fnlwgt    0.12\n",
       "0                                  age    0.10\n",
       "5                       hours-per-week    0.10\n",
       "4                         capital-loss    0.06\n",
       "27  marital-status_ Married-civ-spouse    0.04\n",
       "24                  relationship_ Wife    0.02\n",
       "21        relationship_ Other-relative    0.02\n",
       "22             relationship_ Own-child    0.02\n",
       "23             relationship_ Unmarried    0.02\n",
       "36         workclass_ Self-emp-not-inc    0.02\n",
       "51           native-country_ Guatemala    0.02\n",
       "32                workclass_ Local-gov    0.02\n",
       "17            occupation_ Tech-support    0.02\n",
       "37                workclass_ State-gov    0.02\n",
       "19                    occupation_other    0.02\n",
       "25                           sex_ Male    0.02\n",
       "8          occupation_ Exec-managerial    0.02\n",
       "15         occupation_ Protective-serv    0.02"
      ]
     },
     "execution_count": 35,
     "metadata": {},
     "output_type": "execute_result"
    }
   ],
   "source": [
    "boost = AdaBoostClassifier()\n",
    "boost.fit(X_train,y_train)\n",
    "\n",
    "values = boost.feature_importances_\n",
    "\n",
    "feat = pd.DataFrame(features)\n",
    "feat['values'] = values\n",
    "df_feat = feat.sort_values(by= 'values', ascending=False).head(20)"
   ]
  },
  {
   "cell_type": "code",
   "execution_count": 36,
   "metadata": {
    "ExecuteTime": {
     "end_time": "2021-02-08T21:26:00.751416Z",
     "start_time": "2021-02-08T21:26:00.747428Z"
    },
    "pycharm": {
     "name": "#%%\n"
    }
   },
   "outputs": [],
   "source": [
    "df_feat.columns = ['features','values']"
   ]
  },
  {
   "cell_type": "code",
   "execution_count": 37,
   "metadata": {
    "ExecuteTime": {
     "end_time": "2021-02-08T21:26:01.405170Z",
     "start_time": "2021-02-08T21:26:01.396220Z"
    },
    "pycharm": {
     "name": "#%%\n"
    }
   },
   "outputs": [
    {
     "data": {
      "text/html": [
       "<div>\n",
       "<style scoped>\n",
       "    .dataframe tbody tr th:only-of-type {\n",
       "        vertical-align: middle;\n",
       "    }\n",
       "\n",
       "    .dataframe tbody tr th {\n",
       "        vertical-align: top;\n",
       "    }\n",
       "\n",
       "    .dataframe thead th {\n",
       "        text-align: right;\n",
       "    }\n",
       "</style>\n",
       "<table border=\"1\" class=\"dataframe\">\n",
       "  <thead>\n",
       "    <tr style=\"text-align: right;\">\n",
       "      <th></th>\n",
       "      <th>features</th>\n",
       "      <th>values</th>\n",
       "    </tr>\n",
       "  </thead>\n",
       "  <tbody>\n",
       "    <tr>\n",
       "      <th>2</th>\n",
       "      <td>education-num</td>\n",
       "      <td>0.12</td>\n",
       "    </tr>\n",
       "    <tr>\n",
       "      <th>3</th>\n",
       "      <td>capital-gain</td>\n",
       "      <td>0.12</td>\n",
       "    </tr>\n",
       "    <tr>\n",
       "      <th>1</th>\n",
       "      <td>fnlwgt</td>\n",
       "      <td>0.12</td>\n",
       "    </tr>\n",
       "    <tr>\n",
       "      <th>0</th>\n",
       "      <td>age</td>\n",
       "      <td>0.10</td>\n",
       "    </tr>\n",
       "    <tr>\n",
       "      <th>5</th>\n",
       "      <td>hours-per-week</td>\n",
       "      <td>0.10</td>\n",
       "    </tr>\n",
       "    <tr>\n",
       "      <th>4</th>\n",
       "      <td>capital-loss</td>\n",
       "      <td>0.06</td>\n",
       "    </tr>\n",
       "    <tr>\n",
       "      <th>27</th>\n",
       "      <td>marital-status_ Married-civ-spouse</td>\n",
       "      <td>0.04</td>\n",
       "    </tr>\n",
       "    <tr>\n",
       "      <th>24</th>\n",
       "      <td>relationship_ Wife</td>\n",
       "      <td>0.02</td>\n",
       "    </tr>\n",
       "    <tr>\n",
       "      <th>21</th>\n",
       "      <td>relationship_ Other-relative</td>\n",
       "      <td>0.02</td>\n",
       "    </tr>\n",
       "    <tr>\n",
       "      <th>22</th>\n",
       "      <td>relationship_ Own-child</td>\n",
       "      <td>0.02</td>\n",
       "    </tr>\n",
       "    <tr>\n",
       "      <th>23</th>\n",
       "      <td>relationship_ Unmarried</td>\n",
       "      <td>0.02</td>\n",
       "    </tr>\n",
       "    <tr>\n",
       "      <th>36</th>\n",
       "      <td>workclass_ Self-emp-not-inc</td>\n",
       "      <td>0.02</td>\n",
       "    </tr>\n",
       "    <tr>\n",
       "      <th>51</th>\n",
       "      <td>native-country_ Guatemala</td>\n",
       "      <td>0.02</td>\n",
       "    </tr>\n",
       "    <tr>\n",
       "      <th>32</th>\n",
       "      <td>workclass_ Local-gov</td>\n",
       "      <td>0.02</td>\n",
       "    </tr>\n",
       "    <tr>\n",
       "      <th>17</th>\n",
       "      <td>occupation_ Tech-support</td>\n",
       "      <td>0.02</td>\n",
       "    </tr>\n",
       "    <tr>\n",
       "      <th>37</th>\n",
       "      <td>workclass_ State-gov</td>\n",
       "      <td>0.02</td>\n",
       "    </tr>\n",
       "    <tr>\n",
       "      <th>19</th>\n",
       "      <td>occupation_other</td>\n",
       "      <td>0.02</td>\n",
       "    </tr>\n",
       "    <tr>\n",
       "      <th>25</th>\n",
       "      <td>sex_ Male</td>\n",
       "      <td>0.02</td>\n",
       "    </tr>\n",
       "    <tr>\n",
       "      <th>8</th>\n",
       "      <td>occupation_ Exec-managerial</td>\n",
       "      <td>0.02</td>\n",
       "    </tr>\n",
       "    <tr>\n",
       "      <th>15</th>\n",
       "      <td>occupation_ Protective-serv</td>\n",
       "      <td>0.02</td>\n",
       "    </tr>\n",
       "  </tbody>\n",
       "</table>\n",
       "</div>"
      ],
      "text/plain": [
       "                              features  values\n",
       "2                        education-num    0.12\n",
       "3                         capital-gain    0.12\n",
       "1                               fnlwgt    0.12\n",
       "0                                  age    0.10\n",
       "5                       hours-per-week    0.10\n",
       "4                         capital-loss    0.06\n",
       "27  marital-status_ Married-civ-spouse    0.04\n",
       "24                  relationship_ Wife    0.02\n",
       "21        relationship_ Other-relative    0.02\n",
       "22             relationship_ Own-child    0.02\n",
       "23             relationship_ Unmarried    0.02\n",
       "36         workclass_ Self-emp-not-inc    0.02\n",
       "51           native-country_ Guatemala    0.02\n",
       "32                workclass_ Local-gov    0.02\n",
       "17            occupation_ Tech-support    0.02\n",
       "37                workclass_ State-gov    0.02\n",
       "19                    occupation_other    0.02\n",
       "25                           sex_ Male    0.02\n",
       "8          occupation_ Exec-managerial    0.02\n",
       "15         occupation_ Protective-serv    0.02"
      ]
     },
     "execution_count": 37,
     "metadata": {},
     "output_type": "execute_result"
    }
   ],
   "source": [
    "df_feat"
   ]
  },
  {
   "cell_type": "code",
   "execution_count": 38,
   "metadata": {
    "ExecuteTime": {
     "end_time": "2021-02-08T21:31:23.601155Z",
     "start_time": "2021-02-08T21:31:23.282976Z"
    },
    "pycharm": {
     "name": "#%%\n"
    }
   },
   "outputs": [
    {
     "data": {
      "image/png": "[encoded data removed]",
      "text/plain": [
       "<Figure size 1224x576 with 1 Axes>"
      ]
     },
     "metadata": {
      "needs_background": "light"
     },
     "output_type": "display_data"
    }
   ],
   "source": [
    "plt.figure(figsize = (17,8))\n",
    "plt.title('The distribution of feature importance',fontsize = 15)\n",
    "sns.barplot(x = 'features',y = 'values', data = df_feat)\n",
    "#df_feat.plot(kind='bar')\n",
    "plt.xticks(rotation = 30, fontsize = 9)\n",
    "plt.yticks(rotation = 0, fontsize = 10);"
   ]
  },
  {
   "cell_type": "code",
   "execution_count": 32,
   "metadata": {
    "pycharm": {
     "name": "#%%\n"
    }
   },
   "outputs": [
    {
     "name": "stdout",
     "output_type": "stream",
     "text": [
      "Fitting 5 folds for each of 25 candidates, totalling 125 fits\n",
      "Training Score:  0.8644553644553644\n",
      "Validation Score:  0.8612645794966237\n",
      "{'n_estimators': 136}\n",
      "0.852170411262312\n"
     ]
    }
   ],
   "source": [
    "#weight features and adjust hyperparameters.\n",
    "#what if for feature with an importance below .1  we multiply the\n",
    "estimators = np.random.randint(10,300,25)\n",
    "params = dict(n_estimators= estimators)\n",
    "\n",
    "grid = GridSearchCV(AdaBoostClassifier(), param_grid=params, n_jobs=-1, cv= 5, verbose= 1)\n",
    "grid.fit(X_train,y_train)\n",
    "print(f'Training Score: ', grid.score(X_train,y_train))\n",
    "print(f'Validation Score: ', grid.score(X_val,y_val))\n",
    "print(grid.best_params_)\n",
    "print(grid.best_score_)"
   ]
  },
  {
   "cell_type": "code",
   "execution_count": 33,
   "metadata": {
    "pycharm": {
     "name": "#%%\n"
    }
   },
   "outputs": [
    {
     "name": "stdout",
     "output_type": "stream",
     "text": [
      "Fitting 5 folds for each of 1 candidates, totalling 5 fits\n",
      "Training Score:  0.89004914004914\n",
      "Validation Score:  0.8710865561694291\n",
      "{'criterion': 'mse', 'learning_rate': 0.1291549665014884, 'max_features': None, 'n_estimators': 131}\n",
      "0.8564703340772187\n"
     ]
    }
   ],
   "source": [
    "l_rate = [0.1291549665014884] #np.logspace(-2,-0.8,100)\n",
    "estimators = [131] #np.random.randint(100,200,5)\n",
    "criterion = ['mse'] #('friedman_mse', 'mse', 'mae')\n",
    "max_features = [None] # [None, 'sqrt', 'log2']\n",
    "params = dict(n_estimators= estimators,\n",
    "              learning_rate= l_rate,\n",
    "              criterion= criterion,\n",
    "              max_features= max_features)\n",
    "\n",
    "grid = GridSearchCV(GradientBoostingClassifier(), param_grid=params, n_jobs=-1, cv= 5, verbose= 1)\n",
    "grid.fit(X_train,y_train)\n",
    "print(f'Training Score: ', grid.score(X_train,y_train))\n",
    "print(f'Validation Score: ', grid.score(X_val,y_val))\n",
    "print(grid.best_params_)\n",
    "print(grid.best_score_)"
   ]
  },
  {
   "cell_type": "markdown",
   "metadata": {},
   "source": [
    "The grid search provided us with the best paramets to use with our gradient boost model."
   ]
  },
  {
   "cell_type": "code",
   "execution_count": 34,
   "metadata": {
    "pycharm": {
     "name": "#%%\n"
    }
   },
   "outputs": [],
   "source": [
    "best_params = grid.best_params_\n",
    "#need to convert strings to\n",
    "best_params = {key: [value] for key, value in best_params.items()}"
   ]
  },
  {
   "cell_type": "markdown",
   "metadata": {},
   "source": [
    "### Making the Predictions"
   ]
  },
  {
   "cell_type": "code",
   "execution_count": 35,
   "metadata": {
    "pycharm": {
     "name": "#%%\n"
    }
   },
   "outputs": [
    {
     "name": "stdout",
     "output_type": "stream",
     "text": [
      "Fitting 5 folds for each of 1 candidates, totalling 5 fits\n"
     ]
    }
   ],
   "source": [
    "X_test = test.drop(columns=['education'])\n",
    "\n",
    "test_grid = GridSearchCV(GradientBoostingClassifier(), param_grid= best_params, n_jobs=-1, cv=5, verbose= 1)\n",
    "test_grid.fit(X,y)\n",
    "\n",
    "\n",
    "pred = test_grid.predict(X_test)\n",
    "\n",
    "submit = pd.DataFrame(pred, columns=['wage'])\n",
    "submit.to_csv('submission.csv', index=False)"
   ]
  },
  {
   "cell_type": "markdown",
   "metadata": {},
   "source": [
    "## Conclusion\n"
   ]
  },
  {
   "cell_type": "markdown",
   "metadata": {},
   "source": [
    "Our final models performs much better than the baseline with an accuracy of 87% on our testing data. We were able to put together a model with the data provided to us and tweak our features and parameters to create the best model that we could with the given data."
   ]
  }
 ],
 "metadata": {
  "kernelspec": {
   "display_name": "Python 3",
   "language": "python",
   "name": "python3"
  },
  "language_info": {
   "codemirror_mode": {
    "name": "ipython",
    "version": 3
   },
   "file_extension": ".py",
   "mimetype": "text/x-python",
   "name": "python",
   "nbconvert_exporter": "python",
   "pygments_lexer": "ipython3",
   "version": "3.8.5"
  }
 },
 "nbformat": 4,
 "nbformat_minor": 4
}
